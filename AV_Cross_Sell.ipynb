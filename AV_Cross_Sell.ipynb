import pandas as pd
import numpy as np
import matplotlib.pyplot as plt
import seaborn as sns
import scipy
import os

import numpy as np
import pandas as pd
import matplotlib.pyplot as plt
import scipy
import seaborn as sns
import math
import numpy as np
import pandas as pd
import scipy
import matplotlib.pyplot as plt
from sklearn.metrics import r2_score
from sklearn.preprocessing import LabelEncoder
from sklearn.preprocessing import StandardScaler
from sklearn import linear_model
from sklearn.preprocessing import PolynomialFeatures
from sklearn.ensemble import RandomForestClassifier
from sklearn.ensemble import VotingClassifier
from sklearn.linear_model import LogisticRegression
from sklearn.svm import SVC
from sklearn.model_selection import train_test_split
import sklearn.model_selection as ms
import seaborn as sns
import matplotlib
from sklearn.preprocessing import Binarizer
import sklearn
import math
from sklearn.preprocessing import OneHotEncoder
import pandas as pd
import numpy as np
import matplotlib.pyplot as plt
from scipy.signal import savgol_filter
from sklearn.decomposition import PCA
from sklearn.preprocessing import StandardScaler
from sklearn import linear_model
from sklearn.model_selection import cross_val_predict
from sklearn.metrics import mean_squared_error, r2_score
from sklearn.metrics import accuracy_score
# machine learning
from sklearn.linear_model import LogisticRegression
from sklearn.svm import SVC, LinearSVC
from sklearn.ensemble import RandomForestClassifier
from sklearn.neighbors import KNeighborsClassifier
from sklearn.naive_bayes import GaussianNB
from sklearn.linear_model import Perceptron
from sklearn.linear_model import SGDClassifier
from sklearn.tree import DecisionTreeClassifier
from xgboost import XGBClassifier
import time
import warnings

train=pd.read_csv(r"..\train.csv")
test=pd.read_csv(r"..\test.csv")
ss=pd.read_csv(r"..\ss.csv")

train["Vehicle_Age"]=train["Vehicle_Age"].replace(["1-2 Year","< 1 Year","> 2 Years"],[0,1,2])
train["Gender"]=train["Gender"].replace(["Male","Female"],[0,1])
train["Vehicle_Damage"]=train["Vehicle_Damage"].replace(["Yes","No"],[0,1])
test["Vehicle_Age"]=test["Vehicle_Age"].replace(["1-2 Year","< 1 Year","> 2 Years"],[0,1,2])
test["Gender"]=test["Gender"].replace(["Male","Female"],[0,1])
test["Vehicle_Damage"]=test["Vehicle_Damage"].replace(["Yes","No"],[0,1])


target=test["id"]
test=test.drop(["id"],axis=1)
train=train.drop(["id"],axis=1)

plt.figure(figsize=(10,8))
corrMatrix =train.corr()
sns.heatmap(corrMatrix, annot=True,cmap='coolwarm')
plt.show()

from scipy.stats import linregress
slope, intercept, r_value, p_value, std_err=linregress(train['Age'], train['Policy_Sales_Channel'])
x=train['Age']
y=train['Policy_Sales_Channel']
plt.plot(x, y, 'o', label='original data')
plt.plot(x, intercept + slope*x, 'r', label='fitted line')
plt.legend()
plt.show()


#Chisquare test for cintingency
from scipy.stats import chi2_contingency
chi2_contingency(pd.crosstab(train["Vehicle_Age"], train["Vehicle_Damage"]))

from scipy.stats import chi2_contingency
chi2_contingency(pd.crosstab(train["Vehicle_Age"], train["Response"]))


